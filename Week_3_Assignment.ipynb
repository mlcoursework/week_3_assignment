{
 "cells": [
  {
   "cell_type": "markdown",
   "metadata": {},
   "source": [
    "## Coursera Machine Learning for Data Analysis\n",
    "### Week 3 Assignment"
   ]
  },
  {
   "cell_type": "markdown",
   "metadata": {},
   "source": [
    "#### Intro\n",
    "I'll be working with the 'House Sales in King County, USA' you can find on [Kaggle](https://www.kaggle.com/harlfoxem/housesalesprediction/). This data set shows house prices and a variety of indicators that describe the property. Our goal, per assignment's description, is to try to use Lasso regression to find features that are meaningful in predicting house prices.\n",
    "\n",
    "Unfortunately, there is no codebook to the data, so we'll have to make assumptions. Data handling described below.\n",
    "\n",
    "We'll do the following:\n",
    "(click the links to jump to section)\n",
    "+ [Prepare the data](#data)\n",
    "+ [Run a Lasso Regression](#lr)\n",
    "+ [Results & Analysis](#an)"
   ]
  },
  {
   "cell_type": "markdown",
   "metadata": {},
   "source": [
    "# MAKE SURE THE ABOVE WORKS!"
   ]
  },
  {
   "cell_type": "code",
   "execution_count": 1,
   "metadata": {
    "collapsed": true
   },
   "outputs": [],
   "source": [
    "# I've had issues running matploplib in my virtual env\n",
    "import matplotlib\n",
    "matplotlib.use('TkAgg')\n",
    "import matplotlib.pyplot as plt\n",
    "%matplotlib inline"
   ]
  },
  {
   "cell_type": "code",
   "execution_count": 218,
   "metadata": {
    "collapsed": true
   },
   "outputs": [],
   "source": [
    "import pandas as pd\n",
    "import numpy as np\n",
    "\n",
    "from sklearn.cross_validation import train_test_split\n",
    "from sklearn.metrics import classification_report\n",
    "from sklearn.linear_model import LassoLarsCV\n",
    "from sklearn.metrics import mean_squared_error\n",
    "from sklearn import preprocessing\n",
    "import sklearn.metrics"
   ]
  },
  {
   "cell_type": "markdown",
   "metadata": {},
   "source": [
    "<a id='data'></a>\n",
    "### Prepare the data"
   ]
  },
  {
   "cell_type": "code",
   "execution_count": 235,
   "metadata": {
    "collapsed": false
   },
   "outputs": [
    {
     "data": {
      "text/html": [
       "<div>\n",
       "<table border=\"1\" class=\"dataframe\">\n",
       "  <thead>\n",
       "    <tr style=\"text-align: right;\">\n",
       "      <th></th>\n",
       "      <th>id</th>\n",
       "      <th>date</th>\n",
       "      <th>price</th>\n",
       "      <th>bedrooms</th>\n",
       "      <th>bathrooms</th>\n",
       "      <th>sqft_living</th>\n",
       "      <th>sqft_lot</th>\n",
       "      <th>floors</th>\n",
       "      <th>waterfront</th>\n",
       "      <th>view</th>\n",
       "      <th>...</th>\n",
       "      <th>grade</th>\n",
       "      <th>sqft_above</th>\n",
       "      <th>sqft_basement</th>\n",
       "      <th>yr_built</th>\n",
       "      <th>yr_renovated</th>\n",
       "      <th>zipcode</th>\n",
       "      <th>lat</th>\n",
       "      <th>long</th>\n",
       "      <th>sqft_living15</th>\n",
       "      <th>sqft_lot15</th>\n",
       "    </tr>\n",
       "  </thead>\n",
       "  <tbody>\n",
       "    <tr>\n",
       "      <th>0</th>\n",
       "      <td>7129300520</td>\n",
       "      <td>20141013T000000</td>\n",
       "      <td>221900</td>\n",
       "      <td>3</td>\n",
       "      <td>1.00</td>\n",
       "      <td>1180</td>\n",
       "      <td>5650</td>\n",
       "      <td>1</td>\n",
       "      <td>0</td>\n",
       "      <td>0</td>\n",
       "      <td>...</td>\n",
       "      <td>7</td>\n",
       "      <td>1180</td>\n",
       "      <td>0</td>\n",
       "      <td>1955</td>\n",
       "      <td>0</td>\n",
       "      <td>98178</td>\n",
       "      <td>47.5112</td>\n",
       "      <td>-122.257</td>\n",
       "      <td>1340</td>\n",
       "      <td>5650</td>\n",
       "    </tr>\n",
       "    <tr>\n",
       "      <th>1</th>\n",
       "      <td>6414100192</td>\n",
       "      <td>20141209T000000</td>\n",
       "      <td>538000</td>\n",
       "      <td>3</td>\n",
       "      <td>2.25</td>\n",
       "      <td>2570</td>\n",
       "      <td>7242</td>\n",
       "      <td>2</td>\n",
       "      <td>0</td>\n",
       "      <td>0</td>\n",
       "      <td>...</td>\n",
       "      <td>7</td>\n",
       "      <td>2170</td>\n",
       "      <td>400</td>\n",
       "      <td>1951</td>\n",
       "      <td>1991</td>\n",
       "      <td>98125</td>\n",
       "      <td>47.7210</td>\n",
       "      <td>-122.319</td>\n",
       "      <td>1690</td>\n",
       "      <td>7639</td>\n",
       "    </tr>\n",
       "    <tr>\n",
       "      <th>2</th>\n",
       "      <td>5631500400</td>\n",
       "      <td>20150225T000000</td>\n",
       "      <td>180000</td>\n",
       "      <td>2</td>\n",
       "      <td>1.00</td>\n",
       "      <td>770</td>\n",
       "      <td>10000</td>\n",
       "      <td>1</td>\n",
       "      <td>0</td>\n",
       "      <td>0</td>\n",
       "      <td>...</td>\n",
       "      <td>6</td>\n",
       "      <td>770</td>\n",
       "      <td>0</td>\n",
       "      <td>1933</td>\n",
       "      <td>0</td>\n",
       "      <td>98028</td>\n",
       "      <td>47.7379</td>\n",
       "      <td>-122.233</td>\n",
       "      <td>2720</td>\n",
       "      <td>8062</td>\n",
       "    </tr>\n",
       "    <tr>\n",
       "      <th>3</th>\n",
       "      <td>2487200875</td>\n",
       "      <td>20141209T000000</td>\n",
       "      <td>604000</td>\n",
       "      <td>4</td>\n",
       "      <td>3.00</td>\n",
       "      <td>1960</td>\n",
       "      <td>5000</td>\n",
       "      <td>1</td>\n",
       "      <td>0</td>\n",
       "      <td>0</td>\n",
       "      <td>...</td>\n",
       "      <td>7</td>\n",
       "      <td>1050</td>\n",
       "      <td>910</td>\n",
       "      <td>1965</td>\n",
       "      <td>0</td>\n",
       "      <td>98136</td>\n",
       "      <td>47.5208</td>\n",
       "      <td>-122.393</td>\n",
       "      <td>1360</td>\n",
       "      <td>5000</td>\n",
       "    </tr>\n",
       "    <tr>\n",
       "      <th>4</th>\n",
       "      <td>1954400510</td>\n",
       "      <td>20150218T000000</td>\n",
       "      <td>510000</td>\n",
       "      <td>3</td>\n",
       "      <td>2.00</td>\n",
       "      <td>1680</td>\n",
       "      <td>8080</td>\n",
       "      <td>1</td>\n",
       "      <td>0</td>\n",
       "      <td>0</td>\n",
       "      <td>...</td>\n",
       "      <td>8</td>\n",
       "      <td>1680</td>\n",
       "      <td>0</td>\n",
       "      <td>1987</td>\n",
       "      <td>0</td>\n",
       "      <td>98074</td>\n",
       "      <td>47.6168</td>\n",
       "      <td>-122.045</td>\n",
       "      <td>1800</td>\n",
       "      <td>7503</td>\n",
       "    </tr>\n",
       "  </tbody>\n",
       "</table>\n",
       "<p>5 rows × 21 columns</p>\n",
       "</div>"
      ],
      "text/plain": [
       "           id             date   price  bedrooms  bathrooms  sqft_living  \\\n",
       "0  7129300520  20141013T000000  221900         3       1.00         1180   \n",
       "1  6414100192  20141209T000000  538000         3       2.25         2570   \n",
       "2  5631500400  20150225T000000  180000         2       1.00          770   \n",
       "3  2487200875  20141209T000000  604000         4       3.00         1960   \n",
       "4  1954400510  20150218T000000  510000         3       2.00         1680   \n",
       "\n",
       "   sqft_lot  floors  waterfront  view     ...      grade  sqft_above  \\\n",
       "0      5650       1           0     0     ...          7        1180   \n",
       "1      7242       2           0     0     ...          7        2170   \n",
       "2     10000       1           0     0     ...          6         770   \n",
       "3      5000       1           0     0     ...          7        1050   \n",
       "4      8080       1           0     0     ...          8        1680   \n",
       "\n",
       "   sqft_basement  yr_built  yr_renovated  zipcode      lat     long  \\\n",
       "0              0      1955             0    98178  47.5112 -122.257   \n",
       "1            400      1951          1991    98125  47.7210 -122.319   \n",
       "2              0      1933             0    98028  47.7379 -122.233   \n",
       "3            910      1965             0    98136  47.5208 -122.393   \n",
       "4              0      1987             0    98074  47.6168 -122.045   \n",
       "\n",
       "   sqft_living15  sqft_lot15  \n",
       "0           1340        5650  \n",
       "1           1690        7639  \n",
       "2           2720        8062  \n",
       "3           1360        5000  \n",
       "4           1800        7503  \n",
       "\n",
       "[5 rows x 21 columns]"
      ]
     },
     "execution_count": 235,
     "metadata": {},
     "output_type": "execute_result"
    }
   ],
   "source": [
    "house = pd.read_csv('data/kc_house_data.csv')\n",
    "house.head()"
   ]
  },
  {
   "cell_type": "markdown",
   "metadata": {},
   "source": [
    "Let's see if there are any missing values to handle:"
   ]
  },
  {
   "cell_type": "code",
   "execution_count": 236,
   "metadata": {
    "collapsed": false
   },
   "outputs": [
    {
     "name": "stdout",
     "output_type": "stream",
     "text": [
      "<class 'pandas.core.frame.DataFrame'>\n",
      "Int64Index: 21613 entries, 0 to 21612\n",
      "Data columns (total 21 columns):\n",
      "id               21613 non-null int64\n",
      "date             21613 non-null object\n",
      "price            21613 non-null float64\n",
      "bedrooms         21613 non-null int64\n",
      "bathrooms        21613 non-null float64\n",
      "sqft_living      21613 non-null int64\n",
      "sqft_lot         21613 non-null int64\n",
      "floors           21613 non-null float64\n",
      "waterfront       21613 non-null int64\n",
      "view             21613 non-null int64\n",
      "condition        21613 non-null int64\n",
      "grade            21613 non-null int64\n",
      "sqft_above       21613 non-null int64\n",
      "sqft_basement    21613 non-null int64\n",
      "yr_built         21613 non-null int64\n",
      "yr_renovated     21613 non-null int64\n",
      "zipcode          21613 non-null int64\n",
      "lat              21613 non-null float64\n",
      "long             21613 non-null float64\n",
      "sqft_living15    21613 non-null int64\n",
      "sqft_lot15       21613 non-null int64\n",
      "dtypes: float64(5), int64(15), object(1)\n",
      "memory usage: 3.6+ MB\n"
     ]
    }
   ],
   "source": [
    "house.info()"
   ]
  },
  {
   "cell_type": "markdown",
   "metadata": {},
   "source": [
    "We see there are no missing values. Hooray!\n",
    "\n",
    "Let's now try to make sense of the data.<br>\n",
    "Most variable names are self explanatory.  Some that are not:\n",
    "\n",
    "+ view - values range between 0 and 4, 0 being the predominant value, ~20x more prevalent than the next one. I have no idea what it means, and we'll drop it for the sake of the exercise.\n",
    "+ sqft_lot - Perhaps square foot of the entire lot.\n",
    "+ condition - values range between 1 and 5. Probably some increasing measure of quality, perhaps by a subjective estimate of a professional, a realtor, or self-reported by the owner/buyer.\n",
    "+ sqft_above - square foot of top floor? No idea.\n",
    "+ sqft_living15 and sqft_lot15 - some adjusted measure highly correlated with the measures without 15 in the end. Will drop them due to multicollinearity concerns.\n",
    "\n",
    "Notes:\n",
    "+ We won't use id and date since they're not informative for the problem, just descriptive of the data set.\n",
    "+ Location has a lot of influence on price, but doesn't have quantifiable effect (i.e zip 90210 is not 'better by 1' than 90209), and since we don't have relevant data to asses the impact of data, we'll just focus on the most prevalent zip.\n",
    "+ Accordingly, we won't use lat, long which just describe the location."
   ]
  },
  {
   "cell_type": "markdown",
   "metadata": {},
   "source": [
    "#### Data Munging"
   ]
  },
  {
   "cell_type": "code",
   "execution_count": 237,
   "metadata": {
    "collapsed": false
   },
   "outputs": [
    {
     "name": "stdout",
     "output_type": "stream",
     "text": [
      "There are  602 records in the data set.\n"
     ]
    }
   ],
   "source": [
    "# Use only the most common zipcode, due to the consideration above:\n",
    "\n",
    "house = house[house['zipcode']==98103]\n",
    "\n",
    "print 'There are  %d records in the data set.' % house.shape[0]"
   ]
  },
  {
   "cell_type": "code",
   "execution_count": 238,
   "metadata": {
    "collapsed": true
   },
   "outputs": [],
   "source": [
    "# We'll do some data augmentation, as follows:\n",
    "# Transform yr_built to 'age_years' - how old the house is in years.\n",
    "\n",
    "house['age_years'] = 2016 - house['yr_built']\n",
    "\n",
    "# Change yr_renovated to a boolean:\n",
    "house['renovated'] = house['yr_renovated']>0"
   ]
  },
  {
   "cell_type": "markdown",
   "metadata": {},
   "source": [
    "<a id='lr'></a>\n",
    "## Run a Lasso Regression"
   ]
  },
  {
   "cell_type": "code",
   "execution_count": 250,
   "metadata": {
    "collapsed": false
   },
   "outputs": [
    {
     "data": {
      "text/html": [
       "<div>\n",
       "<table border=\"1\" class=\"dataframe\">\n",
       "  <thead>\n",
       "    <tr style=\"text-align: right;\">\n",
       "      <th></th>\n",
       "      <th>bedrooms</th>\n",
       "      <th>bathrooms</th>\n",
       "      <th>sqft_living</th>\n",
       "      <th>sqft_lot</th>\n",
       "      <th>floors</th>\n",
       "      <th>condition</th>\n",
       "      <th>sqft_above</th>\n",
       "      <th>sqft_basement</th>\n",
       "      <th>age_years</th>\n",
       "      <th>renovated</th>\n",
       "    </tr>\n",
       "  </thead>\n",
       "  <tbody>\n",
       "    <tr>\n",
       "      <th>count</th>\n",
       "      <td>6.020000e+02</td>\n",
       "      <td>6.020000e+02</td>\n",
       "      <td>6.020000e+02</td>\n",
       "      <td>6.020000e+02</td>\n",
       "      <td>6.020000e+02</td>\n",
       "      <td>6.020000e+02</td>\n",
       "      <td>6.020000e+02</td>\n",
       "      <td>6.020000e+02</td>\n",
       "      <td>6.020000e+02</td>\n",
       "      <td>6.020000e+02</td>\n",
       "    </tr>\n",
       "    <tr>\n",
       "      <th>mean</th>\n",
       "      <td>-8.262125e-17</td>\n",
       "      <td>8.852277e-17</td>\n",
       "      <td>-6.491670e-17</td>\n",
       "      <td>2.360607e-17</td>\n",
       "      <td>2.360607e-17</td>\n",
       "      <td>3.658941e-16</td>\n",
       "      <td>-2.065531e-16</td>\n",
       "      <td>2.360607e-17</td>\n",
       "      <td>-2.360607e-17</td>\n",
       "      <td>-5.901518e-17</td>\n",
       "    </tr>\n",
       "    <tr>\n",
       "      <th>std</th>\n",
       "      <td>1.000832e+00</td>\n",
       "      <td>1.000832e+00</td>\n",
       "      <td>1.000832e+00</td>\n",
       "      <td>1.000832e+00</td>\n",
       "      <td>1.000832e+00</td>\n",
       "      <td>1.000832e+00</td>\n",
       "      <td>1.000832e+00</td>\n",
       "      <td>1.000832e+00</td>\n",
       "      <td>1.000832e+00</td>\n",
       "      <td>1.000832e+00</td>\n",
       "    </tr>\n",
       "    <tr>\n",
       "      <th>min</th>\n",
       "      <td>-1.325452e+00</td>\n",
       "      <td>-1.492230e+00</td>\n",
       "      <td>-1.997417e+00</td>\n",
       "      <td>-1.546826e+00</td>\n",
       "      <td>-1.043228e+00</td>\n",
       "      <td>-3.372965e+00</td>\n",
       "      <td>-2.084728e+00</td>\n",
       "      <td>-6.706211e-01</td>\n",
       "      <td>-1.491650e+00</td>\n",
       "      <td>-2.408246e-01</td>\n",
       "    </tr>\n",
       "    <tr>\n",
       "      <th>25%</th>\n",
       "      <td>-6.819665e-01</td>\n",
       "      <td>-1.177360e+00</td>\n",
       "      <td>-6.468803e-01</td>\n",
       "      <td>-1.048461e+00</td>\n",
       "      <td>-1.043228e+00</td>\n",
       "      <td>-6.565437e-01</td>\n",
       "      <td>-6.881245e-01</td>\n",
       "      <td>-6.706211e-01</td>\n",
       "      <td>-1.250713e+00</td>\n",
       "      <td>-2.408246e-01</td>\n",
       "    </tr>\n",
       "    <tr>\n",
       "      <th>50%</th>\n",
       "      <td>-3.848087e-02</td>\n",
       "      <td>8.211709e-02</td>\n",
       "      <td>-2.310259e-01</td>\n",
       "      <td>9.590244e-03</td>\n",
       "      <td>-4.126824e-01</td>\n",
       "      <td>-6.565437e-01</td>\n",
       "      <td>-8.224524e-02</td>\n",
       "      <td>-6.706211e-01</td>\n",
       "      <td>4.478952e-01</td>\n",
       "      <td>-2.408246e-01</td>\n",
       "    </tr>\n",
       "    <tr>\n",
       "      <th>75%</th>\n",
       "      <td>-3.848087e-02</td>\n",
       "      <td>7.118558e-01</td>\n",
       "      <td>4.897885e-01</td>\n",
       "      <td>7.197837e-01</td>\n",
       "      <td>1.478953e+00</td>\n",
       "      <td>7.016670e-01</td>\n",
       "      <td>4.065659e-01</td>\n",
       "      <td>6.390487e-01</td>\n",
       "      <td>8.635120e-01</td>\n",
       "      <td>-2.408246e-01</td>\n",
       "    </tr>\n",
       "    <tr>\n",
       "      <th>max</th>\n",
       "      <td>1.926609e+01</td>\n",
       "      <td>3.230811e+00</td>\n",
       "      <td>4.291886e+00</td>\n",
       "      <td>3.260091e+00</td>\n",
       "      <td>2.109499e+00</td>\n",
       "      <td>2.059878e+00</td>\n",
       "      <td>5.165286e+00</td>\n",
       "      <td>3.531236e+00</td>\n",
       "      <td>1.279129e+00</td>\n",
       "      <td>4.152400e+00</td>\n",
       "    </tr>\n",
       "  </tbody>\n",
       "</table>\n",
       "</div>"
      ],
      "text/plain": [
       "           bedrooms     bathrooms   sqft_living      sqft_lot        floors  \\\n",
       "count  6.020000e+02  6.020000e+02  6.020000e+02  6.020000e+02  6.020000e+02   \n",
       "mean  -8.262125e-17  8.852277e-17 -6.491670e-17  2.360607e-17  2.360607e-17   \n",
       "std    1.000832e+00  1.000832e+00  1.000832e+00  1.000832e+00  1.000832e+00   \n",
       "min   -1.325452e+00 -1.492230e+00 -1.997417e+00 -1.546826e+00 -1.043228e+00   \n",
       "25%   -6.819665e-01 -1.177360e+00 -6.468803e-01 -1.048461e+00 -1.043228e+00   \n",
       "50%   -3.848087e-02  8.211709e-02 -2.310259e-01  9.590244e-03 -4.126824e-01   \n",
       "75%   -3.848087e-02  7.118558e-01  4.897885e-01  7.197837e-01  1.478953e+00   \n",
       "max    1.926609e+01  3.230811e+00  4.291886e+00  3.260091e+00  2.109499e+00   \n",
       "\n",
       "          condition    sqft_above  sqft_basement     age_years     renovated  \n",
       "count  6.020000e+02  6.020000e+02   6.020000e+02  6.020000e+02  6.020000e+02  \n",
       "mean   3.658941e-16 -2.065531e-16   2.360607e-17 -2.360607e-17 -5.901518e-17  \n",
       "std    1.000832e+00  1.000832e+00   1.000832e+00  1.000832e+00  1.000832e+00  \n",
       "min   -3.372965e+00 -2.084728e+00  -6.706211e-01 -1.491650e+00 -2.408246e-01  \n",
       "25%   -6.565437e-01 -6.881245e-01  -6.706211e-01 -1.250713e+00 -2.408246e-01  \n",
       "50%   -6.565437e-01 -8.224524e-02  -6.706211e-01  4.478952e-01 -2.408246e-01  \n",
       "75%    7.016670e-01  4.065659e-01   6.390487e-01  8.635120e-01 -2.408246e-01  \n",
       "max    2.059878e+00  5.165286e+00   3.531236e+00  1.279129e+00  4.152400e+00  "
      ]
     },
     "execution_count": 250,
     "metadata": {},
     "output_type": "execute_result"
    }
   ],
   "source": [
    "y = house['price']\n",
    "\n",
    "# Features we'll use:\n",
    "features = ['bedrooms', 'bathrooms', 'sqft_living', 'sqft_lot', 'floors', 'condition', \n",
    "            'sqft_above', 'sqft_basement', 'age_years', 'renovated']\n",
    "\n",
    "# Note we didn't include 'waterfront' as all values are 0 for this zipcode.\n",
    "\n",
    "# Now, let's standardize the features to have mean=0 and sd=1.\n",
    "\n",
    "X = house.loc[:, features]\n",
    "\n",
    "st_X = X.copy()\n",
    "\n",
    "for feature in features:\n",
    "    st_X[feature]=preprocessing.scale(st_X[feature].astype('float64'))\n",
    "    \n",
    "st_X.describe()"
   ]
  },
  {
   "cell_type": "code",
   "execution_count": 251,
   "metadata": {
    "collapsed": false
   },
   "outputs": [
    {
     "name": "stdout",
     "output_type": "stream",
     "text": [
      "There are 421 rows and 10 columns in the training set.\n",
      "There are 181 rows and 10 columns in the test set.\n",
      "There are 421 targets in the training set.\n",
      "There are 181 targets in the test set.\n"
     ]
    }
   ],
   "source": [
    "# split X and y into training and testing sets\n",
    "# since it's a relatively small data set we'll use a 70-30 split\n",
    "X_train, X_test, y_train, y_test = train_test_split(st_X, y, test_size=0.3)\n",
    "\n",
    "print 'There are %d rows and %d columns in the training set.' % (X_train.shape[0], X_train.shape[1])\n",
    "print 'There are %d rows and %d columns in the test set.' % (X_test.shape[0], X_test.shape[1])\n",
    "print 'There are %d targets in the training set.' % y_train.shape[0]\n",
    "print 'There are %d targets in the test set.' % y_test.shape[0]"
   ]
  },
  {
   "cell_type": "code",
   "execution_count": 252,
   "metadata": {
    "collapsed": false
   },
   "outputs": [
    {
     "data": {
      "text/plain": [
       "LassoLarsCV(copy_X=True, cv=5, eps=2.2204460492503131e-16, fit_intercept=True,\n",
       "      max_iter=500, max_n_alphas=1000, n_jobs=1, normalize=True,\n",
       "      positive=False, precompute=False, verbose=False)"
      ]
     },
     "execution_count": 252,
     "metadata": {},
     "output_type": "execute_result"
    }
   ],
   "source": [
    "# Instantiate the model\n",
    "# Due to the relative small number of observations I used k=5 for the k-fold cross validation.\n",
    "\n",
    "model=LassoLarsCV(cv=5, precompute=False)\n",
    "\n",
    "# fit the model with the training data\n",
    "model.fit(X_train, y_train)"
   ]
  },
  {
   "cell_type": "markdown",
   "metadata": {},
   "source": [
    "<a id='an'></a>\n",
    "## Results and Analysis"
   ]
  },
  {
   "cell_type": "code",
   "execution_count": 253,
   "metadata": {
    "collapsed": false
   },
   "outputs": [
    {
     "data": {
      "text/html": [
       "<div>\n",
       "<table border=\"1\" class=\"dataframe\">\n",
       "  <thead>\n",
       "    <tr style=\"text-align: right;\">\n",
       "      <th></th>\n",
       "      <th>feature</th>\n",
       "      <th>coefficient</th>\n",
       "      <th>coef_abs</th>\n",
       "    </tr>\n",
       "  </thead>\n",
       "  <tbody>\n",
       "    <tr>\n",
       "      <th>2</th>\n",
       "      <td>sqft_living</td>\n",
       "      <td>120008.169150</td>\n",
       "      <td>120008.169150</td>\n",
       "    </tr>\n",
       "    <tr>\n",
       "      <th>6</th>\n",
       "      <td>sqft_above</td>\n",
       "      <td>55937.444881</td>\n",
       "      <td>55937.444881</td>\n",
       "    </tr>\n",
       "    <tr>\n",
       "      <th>0</th>\n",
       "      <td>bedrooms</td>\n",
       "      <td>-27418.232372</td>\n",
       "      <td>27418.232372</td>\n",
       "    </tr>\n",
       "    <tr>\n",
       "      <th>4</th>\n",
       "      <td>floors</td>\n",
       "      <td>-23046.300362</td>\n",
       "      <td>23046.300362</td>\n",
       "    </tr>\n",
       "    <tr>\n",
       "      <th>8</th>\n",
       "      <td>age_years</td>\n",
       "      <td>16959.572121</td>\n",
       "      <td>16959.572121</td>\n",
       "    </tr>\n",
       "    <tr>\n",
       "      <th>9</th>\n",
       "      <td>renovated</td>\n",
       "      <td>3954.906784</td>\n",
       "      <td>3954.906784</td>\n",
       "    </tr>\n",
       "    <tr>\n",
       "      <th>5</th>\n",
       "      <td>condition</td>\n",
       "      <td>3932.081945</td>\n",
       "      <td>3932.081945</td>\n",
       "    </tr>\n",
       "    <tr>\n",
       "      <th>1</th>\n",
       "      <td>bathrooms</td>\n",
       "      <td>0.000000</td>\n",
       "      <td>0.000000</td>\n",
       "    </tr>\n",
       "    <tr>\n",
       "      <th>3</th>\n",
       "      <td>sqft_lot</td>\n",
       "      <td>0.000000</td>\n",
       "      <td>0.000000</td>\n",
       "    </tr>\n",
       "    <tr>\n",
       "      <th>7</th>\n",
       "      <td>sqft_basement</td>\n",
       "      <td>0.000000</td>\n",
       "      <td>0.000000</td>\n",
       "    </tr>\n",
       "  </tbody>\n",
       "</table>\n",
       "</div>"
      ],
      "text/plain": [
       "         feature    coefficient       coef_abs\n",
       "2    sqft_living  120008.169150  120008.169150\n",
       "6     sqft_above   55937.444881   55937.444881\n",
       "0       bedrooms  -27418.232372   27418.232372\n",
       "4         floors  -23046.300362   23046.300362\n",
       "8      age_years   16959.572121   16959.572121\n",
       "9      renovated    3954.906784    3954.906784\n",
       "5      condition    3932.081945    3932.081945\n",
       "1      bathrooms       0.000000       0.000000\n",
       "3       sqft_lot       0.000000       0.000000\n",
       "7  sqft_basement       0.000000       0.000000"
      ]
     },
     "execution_count": 253,
     "metadata": {},
     "output_type": "execute_result"
    }
   ],
   "source": [
    "# Inspect the coefficients\n",
    "\n",
    "coefficients_df = pd.DataFrame({'feature':features, 'coefficient':model.coef_})\n",
    "coefficients_df = coefficients_df[['feature', 'coefficient']]\n",
    "\n",
    "\n",
    "# Let's sort them by magnitude. We'll do so using the absolute value of the coefficient.\n",
    "\n",
    "coefficients_df['coef_abs'] = coefficients_df['coefficient'].abs()\n",
    "coefficients_df = coefficients_df.sort_values('coef_abs', ascending=False)\n",
    "coefficients_df"
   ]
  },
  {
   "cell_type": "code",
   "execution_count": 254,
   "metadata": {
    "collapsed": false
   },
   "outputs": [
    {
     "name": "stdout",
     "output_type": "stream",
     "text": [
      "Training set R-square: 0.603447218082\n",
      "Test set R-square: 0.529767055859\n"
     ]
    }
   ],
   "source": [
    "# Let's calculate the R-squares\n",
    "\n",
    "print 'Training set R-square:', model.score(X_train,y_train)\n",
    "print 'Test set R-square:', model.score(X_test,y_test)"
   ]
  },
  {
   "cell_type": "code",
   "execution_count": 255,
   "metadata": {
    "collapsed": false
   },
   "outputs": [
    {
     "data": {
      "text/plain": [
       "<matplotlib.text.Text at 0x10fee2fd0>"
      ]
     },
     "execution_count": 255,
     "metadata": {},
     "output_type": "execute_result"
    },
    {
     "data": {
      "image/png": "[encoded data removed]",
      "text/plain": [
       "<matplotlib.figure.Figure at 0x103c6ddd0>"
      ]
     },
     "metadata": {},
     "output_type": "display_data"
    }
   ],
   "source": [
    "# Let's plot the coefficient progression\n",
    "# Code adapted from the class\n",
    "\n",
    "plt.figure(figsize=(12,6))\n",
    "m_log_alphas = -np.log10(model.alphas_)\n",
    "ax = plt.gca()\n",
    "plt.plot(m_log_alphas, model.coef_path_.T)\n",
    "plt.axvline(-np.log10(model.alpha_), linestyle='--', color='k',\n",
    "            label='alpha CV')\n",
    "plt.ylabel('Regression Coefficients')\n",
    "plt.xlabel('-log(alpha)')\n",
    "plt.title('Regression Coefficients Progression for Lasso Paths')"
   ]
  },
  {
   "cell_type": "code",
   "execution_count": 257,
   "metadata": {
    "collapsed": false,
    "scrolled": true
   },
   "outputs": [
    {
     "data": {
      "text/plain": [
       "<matplotlib.text.Text at 0x111421e50>"
      ]
     },
     "execution_count": 257,
     "metadata": {},
     "output_type": "execute_result"
    },
    {
     "data": {
      "image/png": "[encoded data removed]",
      "text/plain": [
       "<matplotlib.figure.Figure at 0x1110bd190>"
      ]
     },
     "metadata": {},
     "output_type": "display_data"
    }
   ],
   "source": [
    "# Plot mean square error for each fold\n",
    "# Code adapted from the class\n",
    "\n",
    "m_log_alphascv = -np.log10(model.cv_alphas_)\n",
    "plt.figure(figsize=(12,6))\n",
    "plt.plot(m_log_alphascv, model.cv_mse_path_, ':')\n",
    "plt.plot(m_log_alphascv, model.cv_mse_path_.mean(axis=-1), 'k',\n",
    "         label='Average across the folds', linewidth=2)\n",
    "plt.axvline(-np.log10(model.alpha_), linestyle='--', color='k',\n",
    "            label='alpha CV')\n",
    "plt.legend()\n",
    "plt.xlabel('-log(alpha)')\n",
    "plt.ylabel('Mean squared error')\n",
    "plt.title('Mean squared error on each fold')"
   ]
  },
  {
   "cell_type": "markdown",
   "metadata": {},
   "source": [
    "### Summary of findings"
   ]
  },
  {
   "cell_type": "markdown",
   "metadata": {},
   "source": [
    "+ We can see that 7 of the 10 features were found to be meaningful by the LASSO regression: sqft_living, sqft_above, bedrooms, floors, age_years, renovated, condition.\n",
    "+ The following features got a coefficient of 0: bathrooms, sqft_lot, sqft_basement.<br>\n",
    "+ The Regression Coefficients Progression for Lasso Paths chart supports the above for different values of alpha; we consistently see the coefficients retain their ordinal positions.\n",
    "+ R^2 for the training set was ~60%, which is fairly good (room for improvement though!).\n",
    "+ R^2 for the testing set was ~53% - lower as would be expected, but still not very far off from the R^2 of the training set, which is encouraging.\n",
    "+ Mean squared error on each fold chart shows us that the MSE behaves as expected - we don't improve performance by adding more features."
   ]
  },
  {
   "cell_type": "markdown",
   "metadata": {},
   "source": [
    "---"
   ]
  },
  {
   "cell_type": "markdown",
   "metadata": {},
   "source": [
    "### Thank you kind stranger for reading & reviewing! :)"
   ]
  }
 ],
 "metadata": {
  "kernelspec": {
   "display_name": "Python 2",
   "language": "python",
   "name": "python2"
  },
  "language_info": {
   "codemirror_mode": {
    "name": "ipython",
    "version": 2
   },
   "file_extension": ".py",
   "mimetype": "text/x-python",
   "name": "python",
   "nbconvert_exporter": "python",
   "pygments_lexer": "ipython2",
   "version": "2.7.11"
  }
 },
 "nbformat": 4,
 "nbformat_minor": 0
}
